{
 "cells": [
  {
   "cell_type": "code",
   "execution_count": 22,
   "id": "11c5171a",
   "metadata": {},
   "outputs": [],
   "source": [
    "import pandas as pd\n",
    "import numpy as np"
   ]
  },
  {
   "cell_type": "code",
   "execution_count": 2,
   "id": "622515cf",
   "metadata": {},
   "outputs": [],
   "source": [
    "items = pd.read_csv('items.csv')"
   ]
  },
  {
   "cell_type": "code",
   "execution_count": 4,
   "id": "a99ccd35",
   "metadata": {},
   "outputs": [],
   "source": [
    "ratings = pd.read_csv('ratings.csv')"
   ]
  },
  {
   "cell_type": "code",
   "execution_count": 6,
   "id": "71138522",
   "metadata": {},
   "outputs": [],
   "source": [
    "cbf = pd.read_csv('cbf.csv')"
   ]
  },
  {
   "cell_type": "code",
   "execution_count": 8,
   "id": "f5f1561c",
   "metadata": {},
   "outputs": [],
   "source": [
    "item_item = pd.read_csv('item-item.csv')"
   ]
  },
  {
   "cell_type": "code",
   "execution_count": 10,
   "id": "5f914cfb",
   "metadata": {},
   "outputs": [],
   "source": [
    "user_user = pd.read_csv('user-user.csv')"
   ]
  },
  {
   "cell_type": "code",
   "execution_count": 11,
   "id": "49f34ab6",
   "metadata": {},
   "outputs": [],
   "source": [
    "pers_bias = pd.read_csv('pers-bias.csv')"
   ]
  },
  {
   "cell_type": "code",
   "execution_count": 12,
   "id": "0b5c47fc",
   "metadata": {},
   "outputs": [],
   "source": [
    "mf = pd.read_csv('mf.csv')"
   ]
  },
  {
   "cell_type": "code",
   "execution_count": 28,
   "id": "c63631d7",
   "metadata": {},
   "outputs": [],
   "source": [
    "recs = [cbf, item_item, user_user, pers_bias, mf]\n",
    "recs_names = ['cbf', 'item_item', 'user_user', 'pers_bias', 'mf']"
   ]
  },
  {
   "cell_type": "markdown",
   "id": "3f990888",
   "metadata": {},
   "source": [
    "# Helper functions"
   ]
  },
  {
   "cell_type": "code",
   "execution_count": 17,
   "id": "6663b0cd",
   "metadata": {},
   "outputs": [],
   "source": [
    "def get_ratings(user_id):\n",
    "    user_ratings = ratings[user_id]\n",
    "    actual_ratings = user_ratings[~np.isnan(user_ratings)]\n",
    "    return actual_ratings"
   ]
  },
  {
   "cell_type": "code",
   "execution_count": 106,
   "id": "06b22e95",
   "metadata": {},
   "outputs": [],
   "source": [
    "def get_top_n(user_id, n):\n",
    "    top_n = {}\n",
    "    for rec, rec_name in zip(recs, recs_names):\n",
    "        top_n_items = rec[user_id].argsort().sort_values()[:n].index.values\n",
    "        top_n[rec_name] = top_n_items\n",
    "    return top_n"
   ]
  },
  {
   "cell_type": "code",
   "execution_count": 137,
   "id": "cdd87550",
   "metadata": {},
   "outputs": [],
   "source": [
    "def get_popular_items(n):\n",
    "    pop_percentages = ratings.copy()\n",
    "    pop_percentages['popularity'] = ratings.apply(lambda row: np.sum(~np.isnan(row))-1, axis=1)/len(ratings.columns[1::])\n",
    "    pop_percentages = pop_percentages.sort_values(by = 'popularity', ascending=False)\n",
    "    return pop_percentages.item.values[:n]"
   ]
  },
  {
   "cell_type": "markdown",
   "id": "6c5d4b32",
   "metadata": {},
   "source": [
    "# RMSE"
   ]
  },
  {
   "cell_type": "code",
   "execution_count": 32,
   "id": "86b226dd",
   "metadata": {},
   "outputs": [],
   "source": [
    "def get_rmse(user_id):   \n",
    "    user_ratings = get_ratings(user_id)\n",
    "    rmse = {}\n",
    "    for rec, rec_name in zip(recs, recs_names):\n",
    "        predicted_ratings = rec.loc[user_ratings.index, user_id]\n",
    "        temp = np.sqrt(np.average((predicted_ratings - user_ratings)**2))\n",
    "        rmse[rec_name] = temp\n",
    "    return rmse"
   ]
  },
  {
   "cell_type": "markdown",
   "id": "87b7e4d2",
   "metadata": {},
   "source": [
    "# Precision @ N"
   ]
  },
  {
   "cell_type": "code",
   "execution_count": 39,
   "id": "edd57c49",
   "metadata": {},
   "outputs": [],
   "source": [
    "def get_precision_at_n(user_id, n):\n",
    "    top_n = get_top_n(user_id, n)\n",
    "    user_ratings = get_ratings(user_id).index.values\n",
    "    precisions = {}\n",
    "    for rec, rec_name in zip(recs, recs_names):\n",
    "        temp = np.sum(np.isin(top_n[rec_name], user_ratings))/n\n",
    "        precisions[rec_name] = temp\n",
    "    return precisions"
   ]
  },
  {
   "cell_type": "markdown",
   "id": "d9a086d4",
   "metadata": {},
   "source": [
    "# Product Diversity"
   ]
  },
  {
   "cell_type": "code",
   "execution_count": 76,
   "id": "788d2d5d",
   "metadata": {},
   "outputs": [],
   "source": [
    "# We will use the \"FullCat\" column in the items catalog to determine the product diversity in the recommendations.\n",
    "# The recommender with a high number of distinct product categories in its recommendations is said to be product-diverse\n",
    "def get_product_diversity(user_id, n):\n",
    "    top_n = get_top_n(user_id, n)\n",
    "    product_diversity = {}\n",
    "    for rec_name in top_n:\n",
    "        categories = items.loc[top_n[rec_name]][['FullCat']].values\n",
    "        categories = set([item for sublist in categories for item in sublist])\n",
    "        product_diversity[rec_name] = len(categories)\n",
    "    return product_diversity"
   ]
  },
  {
   "cell_type": "markdown",
   "id": "3cab57c3",
   "metadata": {},
   "source": [
    "# Cost Diversity"
   ]
  },
  {
   "cell_type": "code",
   "execution_count": 83,
   "id": "f80d0f88",
   "metadata": {},
   "outputs": [],
   "source": [
    "# We will use the \"Price\" column in the items catalog to determine cost diversity in the recommendations.\n",
    "# The recommender with a high standard deviation in the cost across all its recommendations is said to be cost-diverse\n",
    "def get_cost_diversity(user_id, n):\n",
    "    top_n = get_top_n(user_id,n)\n",
    "    cost_diversity = {}\n",
    "    for rec_name in top_n:\n",
    "        std_dev = np.std(items.loc[top_n[rec_name]][['Price']].values)\n",
    "        cost_diversity[rec_name] = std_dev\n",
    "    return cost_diversity"
   ]
  },
  {
   "cell_type": "markdown",
   "id": "ce66cf7d",
   "metadata": {},
   "source": [
    "# Serendipity"
   ]
  },
  {
   "cell_type": "code",
   "execution_count": 144,
   "id": "eac1f233",
   "metadata": {},
   "outputs": [],
   "source": [
    "# We will use inverse popularity as a measure of serendipity.\n",
    "# The recommender with least number of recommendations on the \"most popular\" list, will be called most serendipitous\n",
    "def get_serendipity(user_id, n):\n",
    "    top_n = get_top_n(user_id,n)\n",
    "    popular_items = get_popular_items(20)\n",
    "    serendipity = {}\n",
    "    for rec, rec_name in zip(recs, recs_names):\n",
    "        popularity = np.sum(np.isin(top_n[rec_name],popular_items))\n",
    "        if int(popularity) == 0:\n",
    "            serendipity[rec_name] = 1\n",
    "        else:\n",
    "            serendipity[rec_name] = 1/popularity\n",
    "    return serendipity"
   ]
  },
  {
   "cell_type": "markdown",
   "id": "811a67d6",
   "metadata": {},
   "source": [
    "# Average metrics"
   ]
  },
  {
   "cell_type": "code",
   "execution_count": 161,
   "id": "7bbb0a08",
   "metadata": {},
   "outputs": [],
   "source": [
    "avg_metrics = {}\n",
    "for name in recs_names: \n",
    "    avg_metrics[name] = {\"rmse\": [], \"precision_at_n\": [], \"product_diversity\": [], \"cost_diversity\": [], \"serendipity\": []}\n",
    "\n",
    "for user_id in ratings.columns:\n",
    "    if user_id == 'item':\n",
    "        continue\n",
    "    user_id = str(user_id)\n",
    "    rmse = get_rmse(user_id)\n",
    "    precision_at_n = get_precision_at_n(user_id, 10)\n",
    "    product_diversity = get_product_diversity(user_id, 10)\n",
    "    cost_diversity = get_cost_diversity(user_id, 10)\n",
    "    serendipity = get_serendipity(user_id, 10)\n",
    "    for key in avg_metrics:\n",
    "        rec_name = avg_metrics[key]\n",
    "        rec_name['rmse'].append(rmse[key])\n",
    "        rec_name['precision_at_n'].append(precision_at_n[key])\n",
    "        rec_name['product_diversity'].append(product_diversity[key])\n",
    "        rec_name['cost_diversity'].append(cost_diversity[key])\n",
    "        rec_name['serendipity'].append(serendipity[key])\n",
    "\n",
    "# The Price for certain items is not available. Also rmse for certain users is turning out to be NaN.\n",
    "# Ignoring nans in the average metric calculation for now. So basically narrowing down the evaluation to users who have\n",
    "# rated atleast one item and items for which the price is known.\n",
    "for key in avg_metrics:\n",
    "    rec_name = avg_metrics[key]\n",
    "    for metric in rec_name:\n",
    "        temp = rec_name[metric]\n",
    "        temp = [x for x in temp if not np.isnan(x)]\n",
    "        rec_name[metric] = sum(temp) / len(temp)"
   ]
  },
  {
   "cell_type": "code",
   "execution_count": 162,
   "id": "46099a9e",
   "metadata": {},
   "outputs": [
    {
     "data": {
      "text/plain": [
       "{'cbf': {'rmse': 0.5723872810703614,\n",
       "  'precision_at_n': 0.06099999999999995,\n",
       "  'product_diversity': 9.16,\n",
       "  'cost_diversity': 21.001285934775364,\n",
       "  'serendipity': 1.0},\n",
       " 'item_item': {'rmse': 0.574672000873145,\n",
       "  'precision_at_n': 0.073,\n",
       "  'product_diversity': 9.29,\n",
       "  'cost_diversity': 28.369414026218912,\n",
       "  'serendipity': 1.0},\n",
       " 'user_user': {'rmse': 0.5451297974933205,\n",
       "  'precision_at_n': 0.06799999999999996,\n",
       "  'product_diversity': 9.09,\n",
       "  'cost_diversity': 26.861774672518923,\n",
       "  'serendipity': 1.0},\n",
       " 'pers_bias': {'rmse': 0.6662727799419501,\n",
       "  'precision_at_n': 0.07499999999999996,\n",
       "  'product_diversity': 10.0,\n",
       "  'cost_diversity': 5.4132984399532225,\n",
       "  'serendipity': 1.0},\n",
       " 'mf': {'rmse': 0.6590287674772085,\n",
       "  'precision_at_n': 0.08199999999999996,\n",
       "  'product_diversity': 9.23,\n",
       "  'cost_diversity': 38.535530124652226,\n",
       "  'serendipity': 1.0}}"
      ]
     },
     "execution_count": 162,
     "metadata": {},
     "output_type": "execute_result"
    }
   ],
   "source": [
    "avg_metrics"
   ]
  },
  {
   "cell_type": "code",
   "execution_count": null,
   "id": "9333db66",
   "metadata": {},
   "outputs": [],
   "source": []
  }
 ],
 "metadata": {
  "kernelspec": {
   "display_name": "Python 3",
   "language": "python",
   "name": "python3"
  },
  "language_info": {
   "codemirror_mode": {
    "name": "ipython",
    "version": 3
   },
   "file_extension": ".py",
   "mimetype": "text/x-python",
   "name": "python",
   "nbconvert_exporter": "python",
   "pygments_lexer": "ipython3",
   "version": "3.7.6"
  }
 },
 "nbformat": 4,
 "nbformat_minor": 5
}
