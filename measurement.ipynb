{
 "cells": [
  {
   "cell_type": "code",
   "execution_count": 1,
   "id": "f8773e69",
   "metadata": {},
   "outputs": [],
   "source": [
    "import pandas as pd\n",
    "import numpy as np"
   ]
  },
  {
   "cell_type": "code",
   "execution_count": 47,
   "id": "e8e6c4e5",
   "metadata": {},
   "outputs": [],
   "source": [
    "items = pd.read_csv('items.csv')"
   ]
  },
  {
   "cell_type": "code",
   "execution_count": 3,
   "id": "a448ad39",
   "metadata": {},
   "outputs": [],
   "source": [
    "ratings = pd.read_csv('ratings.csv')"
   ]
  },
  {
   "cell_type": "code",
   "execution_count": 4,
   "id": "e14edab6",
   "metadata": {},
   "outputs": [],
   "source": [
    "cbf = pd.read_csv('cbf.csv')"
   ]
  },
  {
   "cell_type": "code",
   "execution_count": 5,
   "id": "696bcfec",
   "metadata": {},
   "outputs": [],
   "source": [
    "item_item = pd.read_csv('item-item.csv')"
   ]
  },
  {
   "cell_type": "code",
   "execution_count": 6,
   "id": "62b18334",
   "metadata": {},
   "outputs": [],
   "source": [
    "user_user = pd.read_csv('user-user.csv')"
   ]
  },
  {
   "cell_type": "code",
   "execution_count": 7,
   "id": "7bf27fab",
   "metadata": {},
   "outputs": [],
   "source": [
    "pers_bias = pd.read_csv('pers-bias.csv')"
   ]
  },
  {
   "cell_type": "code",
   "execution_count": 8,
   "id": "b7309b0a",
   "metadata": {},
   "outputs": [],
   "source": [
    "mf = pd.read_csv('mf.csv')"
   ]
  },
  {
   "cell_type": "code",
   "execution_count": 9,
   "id": "9de630de",
   "metadata": {},
   "outputs": [],
   "source": [
    "recs = [cbf, item_item, user_user, pers_bias, mf]\n",
    "recs_names = ['cbf', 'item_item', 'user_user', 'pers_bias', 'mf']"
   ]
  },
  {
   "cell_type": "markdown",
   "id": "306cdaae",
   "metadata": {},
   "source": [
    "# Helper functions"
   ]
  },
  {
   "cell_type": "code",
   "execution_count": 10,
   "id": "614a5a56",
   "metadata": {},
   "outputs": [],
   "source": [
    "def get_ratings(user_id):\n",
    "    user_ratings = ratings[user_id]\n",
    "    actual_ratings = user_ratings[~np.isnan(user_ratings)]\n",
    "    return actual_ratings"
   ]
  },
  {
   "cell_type": "code",
   "execution_count": 11,
   "id": "a2729c0e",
   "metadata": {},
   "outputs": [],
   "source": [
    "def get_top_n(user_id, n):\n",
    "    top_n = {}\n",
    "    for rec, rec_name in zip(recs, recs_names):\n",
    "        top_n_items = rec[user_id].argsort().sort_values()[:n].index.values\n",
    "        top_n[rec_name] = top_n_items\n",
    "    return top_n"
   ]
  },
  {
   "cell_type": "code",
   "execution_count": 12,
   "id": "847236e5",
   "metadata": {},
   "outputs": [],
   "source": [
    "def get_popular_items(n):\n",
    "    pop_percentages = ratings.copy()\n",
    "    pop_percentages['popularity'] = ratings.apply(lambda row: np.sum(~np.isnan(row))-1, axis=1)/len(ratings.columns[1::])\n",
    "    pop_percentages = pop_percentages.sort_values(by = 'popularity', ascending=False)\n",
    "    return pop_percentages.item.values[:n]"
   ]
  },
  {
   "cell_type": "markdown",
   "id": "18c55e44",
   "metadata": {},
   "source": [
    "# RMSE"
   ]
  },
  {
   "cell_type": "code",
   "execution_count": 13,
   "id": "3d642792",
   "metadata": {},
   "outputs": [],
   "source": [
    "def get_rmse(user_id):   \n",
    "    user_ratings = get_ratings(user_id)\n",
    "    rmse = {}\n",
    "    for rec, rec_name in zip(recs, recs_names):\n",
    "        predicted_ratings = rec.loc[user_ratings.index, user_id]\n",
    "        temp = np.sqrt(np.average((predicted_ratings - user_ratings)**2))\n",
    "        rmse[rec_name] = temp\n",
    "    return rmse"
   ]
  },
  {
   "cell_type": "markdown",
   "id": "a3a3db37",
   "metadata": {},
   "source": [
    "# Precision @ N"
   ]
  },
  {
   "cell_type": "code",
   "execution_count": 14,
   "id": "b35e16a6",
   "metadata": {},
   "outputs": [],
   "source": [
    "def get_precision_at_n(user_id, n):\n",
    "    top_n = get_top_n(user_id, n)\n",
    "    user_ratings = get_ratings(user_id).index.values\n",
    "    precisions = {}\n",
    "    for rec, rec_name in zip(recs, recs_names):\n",
    "        temp = np.sum(np.isin(top_n[rec_name], user_ratings))/n\n",
    "        precisions[rec_name] = temp\n",
    "    return precisions"
   ]
  },
  {
   "cell_type": "markdown",
   "id": "7755d50d",
   "metadata": {},
   "source": [
    "# Product Diversity"
   ]
  },
  {
   "cell_type": "code",
   "execution_count": 15,
   "id": "9a322e5a",
   "metadata": {},
   "outputs": [],
   "source": [
    "# We will use the \"FullCat\" column in the items catalog to determine the product diversity in the recommendations.\n",
    "# The recommender with a high number of distinct product categories in its recommendations is said to be product-diverse\n",
    "def get_product_diversity(user_id, n):\n",
    "    top_n = get_top_n(user_id, n)\n",
    "    product_diversity = {}\n",
    "    for rec_name in top_n:\n",
    "        categories = items.loc[top_n[rec_name]][['FullCat']].values\n",
    "        categories = set([item for sublist in categories for item in sublist])\n",
    "        product_diversity[rec_name] = len(categories)\n",
    "    return product_diversity"
   ]
  },
  {
   "cell_type": "markdown",
   "id": "82ebc873",
   "metadata": {},
   "source": [
    "# Cost Diversity"
   ]
  },
  {
   "cell_type": "code",
   "execution_count": 16,
   "id": "36ac8e25",
   "metadata": {},
   "outputs": [],
   "source": [
    "# We will use the \"Price\" column in the items catalog to determine cost diversity in the recommendations.\n",
    "# The recommender with a high standard deviation in the cost across all its recommendations is said to be cost-diverse\n",
    "def get_cost_diversity(user_id, n):\n",
    "    top_n = get_top_n(user_id,n)\n",
    "    cost_diversity = {}\n",
    "    for rec_name in top_n:\n",
    "        std_dev = np.std(items.loc[top_n[rec_name]][['Price']].values)\n",
    "        cost_diversity[rec_name] = std_dev\n",
    "    return cost_diversity"
   ]
  },
  {
   "cell_type": "markdown",
   "id": "1dafc40b",
   "metadata": {},
   "source": [
    "# Serendipity"
   ]
  },
  {
   "cell_type": "code",
   "execution_count": 17,
   "id": "6697fb41",
   "metadata": {},
   "outputs": [],
   "source": [
    "# We will use inverse popularity as a measure of serendipity.\n",
    "# The recommender with least number of recommendations on the \"most popular\" list, will be called most serendipitous\n",
    "def get_serendipity(user_id, n):\n",
    "    top_n = get_top_n(user_id,n)\n",
    "    popular_items = get_popular_items(20)\n",
    "    serendipity = {}\n",
    "    for rec, rec_name in zip(recs, recs_names):\n",
    "        popularity = np.sum(np.isin(top_n[rec_name],popular_items))\n",
    "        if int(popularity) == 0:\n",
    "            serendipity[rec_name] = 1\n",
    "        else:\n",
    "            serendipity[rec_name] = 1/popularity\n",
    "    return serendipity"
   ]
  },
  {
   "cell_type": "markdown",
   "id": "3544a519",
   "metadata": {},
   "source": [
    "# Average metrics"
   ]
  },
  {
   "cell_type": "code",
   "execution_count": 18,
   "id": "3a44382b",
   "metadata": {},
   "outputs": [],
   "source": [
    "avg_metrics = {}\n",
    "for name in recs_names: \n",
    "    avg_metrics[name] = {\"rmse\": [], \"precision_at_n\": [], \"product_diversity\": [], \"cost_diversity\": [], \"serendipity\": []}\n",
    "\n",
    "for user_id in ratings.columns:\n",
    "    if user_id == 'item':\n",
    "        continue\n",
    "    user_id = str(user_id)\n",
    "    rmse = get_rmse(user_id)\n",
    "    precision_at_n = get_precision_at_n(user_id, 10)\n",
    "    product_diversity = get_product_diversity(user_id, 10)\n",
    "    cost_diversity = get_cost_diversity(user_id, 10)\n",
    "    serendipity = get_serendipity(user_id, 10)\n",
    "    for key in avg_metrics:\n",
    "        rec_name = avg_metrics[key]\n",
    "        rec_name['rmse'].append(rmse[key])\n",
    "        rec_name['precision_at_n'].append(precision_at_n[key])\n",
    "        rec_name['product_diversity'].append(product_diversity[key])\n",
    "        rec_name['cost_diversity'].append(cost_diversity[key])\n",
    "        rec_name['serendipity'].append(serendipity[key])\n",
    "\n",
    "# The Price for certain items is not available. Also rmse for certain users is turning out to be NaN.\n",
    "# Ignoring nans in the average metric calculation for now. So basically narrowing down the evaluation to users who have\n",
    "# rated atleast one item and items for which the price is known.\n",
    "for key in avg_metrics:\n",
    "    rec_name = avg_metrics[key]\n",
    "    for metric in rec_name:\n",
    "        temp = rec_name[metric]\n",
    "        temp = [x for x in temp if not np.isnan(x)]\n",
    "        rec_name[metric] = sum(temp) / len(temp)"
   ]
  },
  {
   "cell_type": "code",
   "execution_count": 19,
   "id": "05df429c",
   "metadata": {},
   "outputs": [
    {
     "data": {
      "text/plain": [
       "{'cbf': {'rmse': 0.5723872810703614,\n",
       "  'precision_at_n': 0.06099999999999995,\n",
       "  'product_diversity': 9.16,\n",
       "  'cost_diversity': 21.001285934775364,\n",
       "  'serendipity': 1.0},\n",
       " 'item_item': {'rmse': 0.574672000873145,\n",
       "  'precision_at_n': 0.073,\n",
       "  'product_diversity': 9.29,\n",
       "  'cost_diversity': 28.369414026218912,\n",
       "  'serendipity': 1.0},\n",
       " 'user_user': {'rmse': 0.5451297974933205,\n",
       "  'precision_at_n': 0.06799999999999996,\n",
       "  'product_diversity': 9.09,\n",
       "  'cost_diversity': 26.861774672518923,\n",
       "  'serendipity': 1.0},\n",
       " 'pers_bias': {'rmse': 0.6662727799419501,\n",
       "  'precision_at_n': 0.07499999999999996,\n",
       "  'product_diversity': 10.0,\n",
       "  'cost_diversity': 5.4132984399532225,\n",
       "  'serendipity': 1.0},\n",
       " 'mf': {'rmse': 0.6590287674772085,\n",
       "  'precision_at_n': 0.08199999999999996,\n",
       "  'product_diversity': 9.23,\n",
       "  'cost_diversity': 38.535530124652226,\n",
       "  'serendipity': 1.0}}"
      ]
     },
     "execution_count": 19,
     "metadata": {},
     "output_type": "execute_result"
    }
   ],
   "source": [
    "avg_metrics"
   ]
  },
  {
   "cell_type": "markdown",
   "id": "def2d993",
   "metadata": {},
   "source": [
    "# Hybridization"
   ]
  },
  {
   "cell_type": "code",
   "execution_count": 20,
   "id": "6fa69df3",
   "metadata": {},
   "outputs": [],
   "source": [
    "# Creating a dataframe with ratings from all algorithms and user_ratings as ground truth\n",
    "users = []\n",
    "items = []\n",
    "user_ratings = []\n",
    "cbf_ratings = []\n",
    "user_user_ratings = []\n",
    "item_item_ratings = []\n",
    "mf_ratings = []\n",
    "pers_bias_ratings = []\n",
    "\n",
    "for user_id in ratings.columns:\n",
    "    if user_id == 'item':\n",
    "        continue\n",
    "    user_id = str(user_id)\n",
    "    true_ratings = get_ratings(user_id)\n",
    "    user_ratings.extend(true_ratings.values)\n",
    "    users.extend([user_id]*len(true_ratings))\n",
    "    items.extend(ratings.loc[true_ratings.index].item.values)\n",
    "    cbf_ratings.extend(cbf.loc[true_ratings.index, user_id].values)\n",
    "    item_item_ratings.extend(item_item.loc[true_ratings.index, user_id].values)\n",
    "    user_user_ratings.extend(user_user.loc[true_ratings.index, user_id].values)\n",
    "    pers_bias_ratings.extend(pers_bias.loc[true_ratings.index, user_id].values)\n",
    "    mf_ratings.extend(mf.loc[true_ratings.index, user_id].values)\n",
    "    \n",
    "df = pd.DataFrame({'user': users, 'item': items,'true_rating': user_ratings, 'cbf':cbf_ratings, 'item_item':item_item_ratings, 'user_user': user_user_ratings, 'pers_bias':pers_bias_ratings, 'mf':mf_ratings})"
   ]
  },
  {
   "cell_type": "code",
   "execution_count": 21,
   "id": "9b41eb5b",
   "metadata": {},
   "outputs": [],
   "source": [
    "df = df.dropna()"
   ]
  },
  {
   "cell_type": "code",
   "execution_count": 22,
   "id": "9cef2129",
   "metadata": {},
   "outputs": [
    {
     "data": {
      "text/html": [
       "<div>\n",
       "<style scoped>\n",
       "    .dataframe tbody tr th:only-of-type {\n",
       "        vertical-align: middle;\n",
       "    }\n",
       "\n",
       "    .dataframe tbody tr th {\n",
       "        vertical-align: top;\n",
       "    }\n",
       "\n",
       "    .dataframe thead th {\n",
       "        text-align: right;\n",
       "    }\n",
       "</style>\n",
       "<table border=\"1\" class=\"dataframe\">\n",
       "  <thead>\n",
       "    <tr style=\"text-align: right;\">\n",
       "      <th></th>\n",
       "      <th>user</th>\n",
       "      <th>item</th>\n",
       "      <th>true_rating</th>\n",
       "      <th>cbf</th>\n",
       "      <th>item_item</th>\n",
       "      <th>user_user</th>\n",
       "      <th>pers_bias</th>\n",
       "      <th>mf</th>\n",
       "    </tr>\n",
       "  </thead>\n",
       "  <tbody>\n",
       "    <tr>\n",
       "      <th>0</th>\n",
       "      <td>64</td>\n",
       "      <td>72</td>\n",
       "      <td>4.0</td>\n",
       "      <td>4.204670</td>\n",
       "      <td>4.020528</td>\n",
       "      <td>3.997032</td>\n",
       "      <td>4.221597</td>\n",
       "      <td>4.293189</td>\n",
       "    </tr>\n",
       "    <tr>\n",
       "      <th>1</th>\n",
       "      <td>64</td>\n",
       "      <td>1240</td>\n",
       "      <td>5.0</td>\n",
       "      <td>4.784942</td>\n",
       "      <td>4.850921</td>\n",
       "      <td>4.962889</td>\n",
       "      <td>4.659690</td>\n",
       "      <td>4.703951</td>\n",
       "    </tr>\n",
       "    <tr>\n",
       "      <th>2</th>\n",
       "      <td>64</td>\n",
       "      <td>1300</td>\n",
       "      <td>4.0</td>\n",
       "      <td>4.522897</td>\n",
       "      <td>4.538863</td>\n",
       "      <td>4.111147</td>\n",
       "      <td>4.613524</td>\n",
       "      <td>4.653262</td>\n",
       "    </tr>\n",
       "    <tr>\n",
       "      <th>3</th>\n",
       "      <td>64</td>\n",
       "      <td>1317</td>\n",
       "      <td>5.0</td>\n",
       "      <td>4.721176</td>\n",
       "      <td>4.687212</td>\n",
       "      <td>5.040519</td>\n",
       "      <td>4.657269</td>\n",
       "      <td>4.675896</td>\n",
       "    </tr>\n",
       "    <tr>\n",
       "      <th>4</th>\n",
       "      <td>64</td>\n",
       "      <td>1327</td>\n",
       "      <td>3.0</td>\n",
       "      <td>4.368981</td>\n",
       "      <td>4.321261</td>\n",
       "      <td>4.460465</td>\n",
       "      <td>4.352745</td>\n",
       "      <td>4.358705</td>\n",
       "    </tr>\n",
       "  </tbody>\n",
       "</table>\n",
       "</div>"
      ],
      "text/plain": [
       "  user  item  true_rating       cbf  item_item  user_user  pers_bias        mf\n",
       "0   64    72          4.0  4.204670   4.020528   3.997032   4.221597  4.293189\n",
       "1   64  1240          5.0  4.784942   4.850921   4.962889   4.659690  4.703951\n",
       "2   64  1300          4.0  4.522897   4.538863   4.111147   4.613524  4.653262\n",
       "3   64  1317          5.0  4.721176   4.687212   5.040519   4.657269  4.675896\n",
       "4   64  1327          3.0  4.368981   4.321261   4.460465   4.352745  4.358705"
      ]
     },
     "execution_count": 22,
     "metadata": {},
     "output_type": "execute_result"
    }
   ],
   "source": [
    "df.head()"
   ]
  },
  {
   "cell_type": "markdown",
   "id": "e44690b8",
   "metadata": {},
   "source": [
    "## Linear Combination"
   ]
  },
  {
   "cell_type": "markdown",
   "id": "c7dcc905",
   "metadata": {},
   "source": [
    "### Performance"
   ]
  },
  {
   "cell_type": "code",
   "execution_count": 23,
   "id": "e9a20c8f",
   "metadata": {},
   "outputs": [],
   "source": [
    "from sklearn.linear_model import LinearRegression"
   ]
  },
  {
   "cell_type": "code",
   "execution_count": 24,
   "id": "a2291f18",
   "metadata": {},
   "outputs": [],
   "source": [
    "clf = LinearRegression()"
   ]
  },
  {
   "cell_type": "code",
   "execution_count": 25,
   "id": "81df9b09",
   "metadata": {},
   "outputs": [],
   "source": [
    "# Split data in 80-20 train and test sets\n",
    "train = df[0:(int(0.8*len(df)))]\n",
    "test = df[(int(0.8*len(df)))::]"
   ]
  },
  {
   "cell_type": "code",
   "execution_count": 26,
   "id": "af0518e6",
   "metadata": {},
   "outputs": [],
   "source": [
    "train_data = train.drop(['user', 'item','true_rating'], axis=1)\n",
    "train_labels = train.true_rating.values\n",
    "model = clf.fit(train_data, train_labels)"
   ]
  },
  {
   "cell_type": "code",
   "execution_count": 27,
   "id": "8d56dd06",
   "metadata": {},
   "outputs": [],
   "source": [
    "test_data = test.drop(['user', 'item','true_rating'], axis=1)\n",
    "test_labels = test.true_rating.values\n",
    "predictions = model.predict(test_data)"
   ]
  },
  {
   "cell_type": "code",
   "execution_count": 28,
   "id": "3eb03663",
   "metadata": {},
   "outputs": [],
   "source": [
    "# Avg RMSE predictions\n",
    "avg_rmse = np.sqrt(np.average((predictions - test_labels)**2))"
   ]
  },
  {
   "cell_type": "code",
   "execution_count": 29,
   "id": "080b4ee0",
   "metadata": {},
   "outputs": [
    {
     "data": {
      "text/plain": [
       "0.4920296875408147"
      ]
     },
     "execution_count": 29,
     "metadata": {},
     "output_type": "execute_result"
    }
   ],
   "source": [
    "avg_rmse"
   ]
  },
  {
   "cell_type": "markdown",
   "id": "8f39db75",
   "metadata": {},
   "source": [
    "### Top 5 for three users"
   ]
  },
  {
   "cell_type": "code",
   "execution_count": 30,
   "id": "fb2cafde",
   "metadata": {},
   "outputs": [
    {
     "name": "stdout",
     "output_type": "stream",
     "text": [
      "['993', '672', '675']\n"
     ]
    }
   ],
   "source": [
    "# Pick three users\n",
    "import random\n",
    "users = random.sample(list(ratings.columns[1::]), 3)\n",
    "print(users)"
   ]
  },
  {
   "cell_type": "code",
   "execution_count": 31,
   "id": "049812b9",
   "metadata": {},
   "outputs": [],
   "source": [
    "train_data = df.drop(['user', 'item','true_rating'], axis=1)\n",
    "train_labels = df.true_rating.values\n",
    "model = clf.fit(train_data, train_labels)"
   ]
  },
  {
   "cell_type": "code",
   "execution_count": 32,
   "id": "39296114",
   "metadata": {},
   "outputs": [
    {
     "name": "stderr",
     "output_type": "stream",
     "text": [
      "/Users/apoorvajoshi/opt/anaconda3/lib/python3.7/site-packages/ipykernel_launcher.py:5: SettingWithCopyWarning: \n",
      "A value is trying to be set on a copy of a slice from a DataFrame.\n",
      "Try using .loc[row_indexer,col_indexer] = value instead\n",
      "\n",
      "See the caveats in the documentation: https://pandas.pydata.org/pandas-docs/stable/user_guide/indexing.html#returning-a-view-versus-a-copy\n",
      "  \"\"\"\n",
      "/Users/apoorvajoshi/opt/anaconda3/lib/python3.7/site-packages/ipykernel_launcher.py:5: SettingWithCopyWarning: \n",
      "A value is trying to be set on a copy of a slice from a DataFrame.\n",
      "Try using .loc[row_indexer,col_indexer] = value instead\n",
      "\n",
      "See the caveats in the documentation: https://pandas.pydata.org/pandas-docs/stable/user_guide/indexing.html#returning-a-view-versus-a-copy\n",
      "  \"\"\"\n",
      "/Users/apoorvajoshi/opt/anaconda3/lib/python3.7/site-packages/ipykernel_launcher.py:5: SettingWithCopyWarning: \n",
      "A value is trying to be set on a copy of a slice from a DataFrame.\n",
      "Try using .loc[row_indexer,col_indexer] = value instead\n",
      "\n",
      "See the caveats in the documentation: https://pandas.pydata.org/pandas-docs/stable/user_guide/indexing.html#returning-a-view-versus-a-copy\n",
      "  \"\"\"\n"
     ]
    }
   ],
   "source": [
    "top_5 = {}\n",
    "for user in users:\n",
    "    df_preds = df[df.user == user]\n",
    "    preds = model.predict(df_preds.drop(['user', 'item','true_rating'], axis=1))\n",
    "    df_preds['predictions'] = preds\n",
    "    top_5_items = list(df_preds.sort_values(by=['predictions'], ascending=False)[:5].item.values)\n",
    "    top_5[user] = top_5_items"
   ]
  },
  {
   "cell_type": "code",
   "execution_count": 33,
   "id": "94c2ddb6",
   "metadata": {},
   "outputs": [
    {
     "data": {
      "text/plain": [
       "{'993': [1659, 1793, 1328, 1217, 1945],\n",
       " '672': [795, 603, 41, 1317, 619],\n",
       " '675': [1217, 41, 1379, 1244, 1362]}"
      ]
     },
     "execution_count": 33,
     "metadata": {},
     "output_type": "execute_result"
    }
   ],
   "source": [
    "top_5"
   ]
  },
  {
   "cell_type": "markdown",
   "id": "e7d1dd5e",
   "metadata": {},
   "source": [
    "## Non-linear Combination "
   ]
  },
  {
   "cell_type": "markdown",
   "id": "971242e7",
   "metadata": {},
   "source": [
    "For a non-linear combination of the algorithms, we'll use the DecisionTreeRegressor method in scikitlearn"
   ]
  },
  {
   "cell_type": "markdown",
   "id": "ffbe9114",
   "metadata": {},
   "source": [
    "### Performance"
   ]
  },
  {
   "cell_type": "code",
   "execution_count": 34,
   "id": "b2fc52e5",
   "metadata": {},
   "outputs": [],
   "source": [
    "from sklearn.tree import DecisionTreeRegressor"
   ]
  },
  {
   "cell_type": "code",
   "execution_count": 35,
   "id": "57b3fc3b",
   "metadata": {},
   "outputs": [],
   "source": [
    "clf = DecisionTreeRegressor()"
   ]
  },
  {
   "cell_type": "code",
   "execution_count": 36,
   "id": "a6492796",
   "metadata": {},
   "outputs": [],
   "source": [
    "# Split data in 80-20 train and test sets\n",
    "train = df[0:(int(0.8*len(df)))]\n",
    "test = df[(int(0.8*len(df)))::]"
   ]
  },
  {
   "cell_type": "code",
   "execution_count": 37,
   "id": "d62bfaa5",
   "metadata": {},
   "outputs": [],
   "source": [
    "train_data = train.drop(['user', 'item','true_rating'], axis=1)\n",
    "train_labels = train.true_rating.values\n",
    "model = clf.fit(train_data, train_labels)"
   ]
  },
  {
   "cell_type": "code",
   "execution_count": 38,
   "id": "a75936a3",
   "metadata": {},
   "outputs": [],
   "source": [
    "test_data = test.drop(['user', 'item','true_rating'], axis=1)\n",
    "test_labels = test.true_rating.values\n",
    "predictions = model.predict(test_data)"
   ]
  },
  {
   "cell_type": "code",
   "execution_count": 39,
   "id": "09b21a15",
   "metadata": {},
   "outputs": [],
   "source": [
    "# Avg RMSE predictions\n",
    "avg_rmse = np.sqrt(np.average((predictions - test_labels)**2))"
   ]
  },
  {
   "cell_type": "code",
   "execution_count": 40,
   "id": "6d8efab3",
   "metadata": {},
   "outputs": [
    {
     "data": {
      "text/plain": [
       "0.7046642634176442"
      ]
     },
     "execution_count": 40,
     "metadata": {},
     "output_type": "execute_result"
    }
   ],
   "source": [
    "avg_rmse"
   ]
  },
  {
   "cell_type": "markdown",
   "id": "9811b1ef",
   "metadata": {},
   "source": [
    "### Top-5 for 3 users"
   ]
  },
  {
   "cell_type": "code",
   "execution_count": 41,
   "id": "5a00f88b",
   "metadata": {},
   "outputs": [],
   "source": [
    "# Using the same users as above to compare across the same users\n",
    "users = ['3430', '112', '1817']"
   ]
  },
  {
   "cell_type": "code",
   "execution_count": 42,
   "id": "3a79acb3",
   "metadata": {},
   "outputs": [],
   "source": [
    "train_data = df.drop(['user', 'item','true_rating'], axis=1)\n",
    "train_labels = df.true_rating.values\n",
    "model = clf.fit(train_data, train_labels)"
   ]
  },
  {
   "cell_type": "code",
   "execution_count": 43,
   "id": "7bac243a",
   "metadata": {},
   "outputs": [
    {
     "name": "stderr",
     "output_type": "stream",
     "text": [
      "/Users/apoorvajoshi/opt/anaconda3/lib/python3.7/site-packages/ipykernel_launcher.py:5: SettingWithCopyWarning: \n",
      "A value is trying to be set on a copy of a slice from a DataFrame.\n",
      "Try using .loc[row_indexer,col_indexer] = value instead\n",
      "\n",
      "See the caveats in the documentation: https://pandas.pydata.org/pandas-docs/stable/user_guide/indexing.html#returning-a-view-versus-a-copy\n",
      "  \"\"\"\n",
      "/Users/apoorvajoshi/opt/anaconda3/lib/python3.7/site-packages/ipykernel_launcher.py:5: SettingWithCopyWarning: \n",
      "A value is trying to be set on a copy of a slice from a DataFrame.\n",
      "Try using .loc[row_indexer,col_indexer] = value instead\n",
      "\n",
      "See the caveats in the documentation: https://pandas.pydata.org/pandas-docs/stable/user_guide/indexing.html#returning-a-view-versus-a-copy\n",
      "  \"\"\"\n",
      "/Users/apoorvajoshi/opt/anaconda3/lib/python3.7/site-packages/ipykernel_launcher.py:5: SettingWithCopyWarning: \n",
      "A value is trying to be set on a copy of a slice from a DataFrame.\n",
      "Try using .loc[row_indexer,col_indexer] = value instead\n",
      "\n",
      "See the caveats in the documentation: https://pandas.pydata.org/pandas-docs/stable/user_guide/indexing.html#returning-a-view-versus-a-copy\n",
      "  \"\"\"\n"
     ]
    }
   ],
   "source": [
    "top_5 = {}\n",
    "for user in users:\n",
    "    df_preds = df[df.user == user]\n",
    "    preds = model.predict(df_preds.drop(['user', 'item','true_rating'], axis=1))\n",
    "    df_preds['predictions'] = preds\n",
    "    top_5_items = list(df_preds.sort_values(by=['predictions'], ascending=False)[:5].item.values)\n",
    "    top_5[user] = top_5_items"
   ]
  },
  {
   "cell_type": "code",
   "execution_count": 44,
   "id": "05d348de",
   "metadata": {},
   "outputs": [
    {
     "data": {
      "text/plain": [
       "{'3430': [1410, 1524, 1793, 2080, 795],\n",
       " '112': [327, 419, 1240, 1490, 1523],\n",
       " '1817': [256, 305, 517, 1294, 1297]}"
      ]
     },
     "execution_count": 44,
     "metadata": {},
     "output_type": "execute_result"
    }
   ],
   "source": [
    "top_5"
   ]
  },
  {
   "cell_type": "markdown",
   "id": "38996984",
   "metadata": {},
   "source": [
    "## Different recommenders based on user type"
   ]
  },
  {
   "cell_type": "markdown",
   "id": "80460aa6",
   "metadata": {},
   "source": [
    "This hybridization techniques aims to create separate recomemnder strategies for two separate scenarios- one where users end up on the Nile-River.com landing page via banner ads for school products and other where users arrive at the landing page via endoresements for office products. For the first scenario, we'll pick a 3:2 ratio of school (inexpensive) products vs. office (expensive) products and the reverse for the second scenario i.e. 2:3 ratio of school to office products. Here we will show the evaluate only for the first scenario."
   ]
  },
  {
   "cell_type": "code",
   "execution_count": 93,
   "id": "7dcc6543",
   "metadata": {},
   "outputs": [],
   "source": [
    "# Determine threshold to label an item cheap or expensive- let's set this as the third quantile of the price list\n",
    "# This is assuming office products are mostly in the expensive bracket\n",
    "prices = items.Price.values\n",
    "price_threshold = np.percentile([x for x in prices if not np.isnan(x)], 75)"
   ]
  },
  {
   "cell_type": "markdown",
   "id": "04ac9c55",
   "metadata": {},
   "source": [
    "### Performance"
   ]
  },
  {
   "cell_type": "code",
   "execution_count": 131,
   "id": "5560bb4d",
   "metadata": {},
   "outputs": [],
   "source": [
    "def get_precision_at_n(user_id, top_n):\n",
    "    user_ratings = get_ratings(user_id).index.values\n",
    "    precision_at_n = np.sum(np.isin(top_n, user_ratings))/ len(top_n)\n",
    "    return precision_at_n"
   ]
  },
  {
   "cell_type": "code",
   "execution_count": 104,
   "id": "035c22b2",
   "metadata": {},
   "outputs": [],
   "source": [
    "def get_cost_diversity(top_n):\n",
    "    std_dev = np.std(items.loc[top_n][['Price']].values)\n",
    "    return std_dev"
   ]
  },
  {
   "cell_type": "code",
   "execution_count": 105,
   "id": "13a1459e",
   "metadata": {},
   "outputs": [],
   "source": [
    "def get_product_diversity(top_n):\n",
    "    categories = items.loc[top_n][['FullCat']].values\n",
    "    categories = set([item for sublist in categories for item in sublist])\n",
    "    return len(categories)"
   ]
  },
  {
   "cell_type": "code",
   "execution_count": 106,
   "id": "9142de97",
   "metadata": {},
   "outputs": [],
   "source": [
    "def get_serendipity(top_n):\n",
    "    popular_items = get_popular_items(20)\n",
    "    popularity = np.sum(np.isin(top_n,popular_items))\n",
    "    if int(popularity) == 0:\n",
    "        serendipity = 1\n",
    "    else:\n",
    "        serendipity = 1/popularity\n",
    "    return serendipity"
   ]
  },
  {
   "cell_type": "code",
   "execution_count": 129,
   "id": "71c3f6c7",
   "metadata": {},
   "outputs": [],
   "source": [
    "# To pick which items to finally recommend, let's assume that all the items in the top-5 for each recommender are \n",
    "# equally relevant. We can potentially include some ranking based selection to pick item that are more relavant AND fit the\n",
    "# cost criteria. For now, we'll pick at random since we're assuming all items are equally relevant.\n",
    "def get_mixed_recs(user_id, n, n_cheap, n_exp):\n",
    "    top_n_overall_items = []\n",
    "    top_n_overall_prices = []\n",
    "    mixed_recs = [] \n",
    "    for rec, rec_name in zip(recs, recs_names):\n",
    "        top_n_items = rec[user_id].argsort().sort_values()[:n].index.values\n",
    "        top_n_prices = items.loc[top_n_items][['Price']].values\n",
    "        top_n_overall_items.extend(top_n_items)\n",
    "        top_n_overall_prices.extend(top_n_prices)\n",
    "    top_dict = dict(zip(top_n_overall_items, top_n_overall_prices))\n",
    "    top_cheap = dict(filter(lambda elem: elem[1] <= price_threshold, top_dict.items())).keys()\n",
    "    top_exp = dict(filter(lambda elem: elem[1] > price_threshold, top_dict.items())).keys()\n",
    "    mixed_recs = random.sample(list(top_cheap), n_cheap) + random.sample(list(top_exp), n_exp)\n",
    "    return mixed_recs"
   ]
  },
  {
   "cell_type": "code",
   "execution_count": 133,
   "id": "bee18803",
   "metadata": {},
   "outputs": [],
   "source": [
    "avg_metrics = {\"precision_at_n\": [], \"product_diversity\": [], \"cost_diversity\": [], \"serendipity\": []}\n",
    "for user_id in ratings.columns:\n",
    "    if user_id == 'item':\n",
    "        continue\n",
    "    user_id = str(user_id)\n",
    "    top_5 = get_mixed_recs(user_id, 5, 3, 2)\n",
    "    avg_metrics[\"precision_at_n\"].append(get_precision_at_n(user_id, top_5))\n",
    "    avg_metrics[\"cost_diversity\"].append(get_cost_diversity(top_5))\n",
    "    avg_metrics[\"product_diversity\"].append(get_product_diversity(top_5))\n",
    "    avg_metrics[\"serendipity\"].append(get_serendipity(top_5))\n",
    "\n",
    "for metric in avg_metrics:\n",
    "    temp = avg_metrics[metric]\n",
    "    temp = [x for x in temp if not np.isnan(x)]\n",
    "    avg_metrics[metric] = sum(temp) / len(temp)"
   ]
  },
  {
   "cell_type": "code",
   "execution_count": 134,
   "id": "b08a6ad3",
   "metadata": {},
   "outputs": [
    {
     "data": {
      "text/plain": [
       "{'precision_at_n': 0.06000000000000002,\n",
       " 'product_diversity': 4.89,\n",
       " 'cost_diversity': 30.273712389018762,\n",
       " 'serendipity': 1.0}"
      ]
     },
     "execution_count": 134,
     "metadata": {},
     "output_type": "execute_result"
    }
   ],
   "source": [
    "avg_metrics"
   ]
  },
  {
   "cell_type": "markdown",
   "id": "e8efdad3",
   "metadata": {},
   "source": [
    "### Top-5 for three users"
   ]
  },
  {
   "cell_type": "code",
   "execution_count": 51,
   "id": "b9b5f512",
   "metadata": {},
   "outputs": [],
   "source": [
    "# Assuming all three users ended up on the landing pagee through scenario 1 i.e. banner ads for school products\n",
    "users = ['3430', '112', '1817']"
   ]
  },
  {
   "cell_type": "code",
   "execution_count": 140,
   "id": "fba7a9ad",
   "metadata": {},
   "outputs": [],
   "source": [
    "top_5 = {}\n",
    "for user_id in users:\n",
    "    # For office products\n",
    "    # top_5[user_id] = get_mixed_recs(user_id, 5, 2, 3)\n",
    "    # For school products\n",
    "    top_5[user_id] = list(ratings.loc[get_mixed_recs(user_id, 5, 3, 2)].item.values)"
   ]
  },
  {
   "cell_type": "code",
   "execution_count": 141,
   "id": "f6fa453d",
   "metadata": {},
   "outputs": [
    {
     "data": {
      "text/plain": [
       "{'3430': [2317, 1700, 2247, 2169, 1937],\n",
       " '112': [2045, 2242, 2258, 1890, 1895],\n",
       " '1817': [1653, 2258, 2319, 2236, 1937]}"
      ]
     },
     "execution_count": 141,
     "metadata": {},
     "output_type": "execute_result"
    }
   ],
   "source": [
    "top_5"
   ]
  },
  {
   "cell_type": "markdown",
   "id": "3dc699c9",
   "metadata": {},
   "source": [
    "## Switching hybridization"
   ]
  },
  {
   "cell_type": "markdown",
   "id": "f7c776ad",
   "metadata": {},
   "source": [
    "We will not be implementing this hybridizaton as such, but we will explore whether or not the strategy of using content based filtering for new users (users with fewer/no ratings) or items with less ratings is even reasonable for this dataset. For this, let's begin with visualizing the number of ratings for the users in the dataset."
   ]
  },
  {
   "cell_type": "code",
   "execution_count": 54,
   "id": "f0a421de",
   "metadata": {},
   "outputs": [],
   "source": [
    "import matplotlib.pyplot as plt"
   ]
  },
  {
   "cell_type": "code",
   "execution_count": 55,
   "id": "cd1e3e91",
   "metadata": {},
   "outputs": [],
   "source": [
    "item_ratings = ratings.apply(lambda row: np.sum(~np.isnan(row))-1, axis=1)"
   ]
  },
  {
   "cell_type": "code",
   "execution_count": 63,
   "id": "485cd4cf",
   "metadata": {},
   "outputs": [
    {
     "data": {
      "text/plain": [
       "Text(0, 0.5, 'number of items')"
      ]
     },
     "execution_count": 63,
     "metadata": {},
     "output_type": "execute_result"
    },
    {
     "data": {
      "image/png": "[encoded data removed]",
      "text/plain": [
       "<Figure size 432x288 with 1 Axes>"
      ]
     },
     "metadata": {
      "needs_background": "light"
     },
     "output_type": "display_data"
    }
   ],
   "source": [
    "plt.hist(item_ratings)\n",
    "plt.xlabel(\"Number of ratings\")\n",
    "plt.ylabel(\"number of items\")"
   ]
  },
  {
   "cell_type": "code",
   "execution_count": 83,
   "id": "16da3538",
   "metadata": {},
   "outputs": [],
   "source": [
    "# Number of items with < 10 ratings\n",
    "count_less_than_10 = np.count_nonzero(item_ratings<10)/len(item_ratings)*100"
   ]
  },
  {
   "cell_type": "code",
   "execution_count": 84,
   "id": "6884b455",
   "metadata": {},
   "outputs": [
    {
     "data": {
      "text/plain": [
       "79.0"
      ]
     },
     "execution_count": 84,
     "metadata": {},
     "output_type": "execute_result"
    }
   ],
   "source": [
    "count_less_than_10"
   ]
  },
  {
   "cell_type": "code",
   "execution_count": 72,
   "id": "1cea4d00",
   "metadata": {},
   "outputs": [],
   "source": [
    "user_ratings = []\n",
    "for user_id in ratings.columns:\n",
    "    if user_id == 'item':\n",
    "        continue\n",
    "    user_id = str(user_id)\n",
    "    user_ratings.append(len(get_ratings(user_id)))"
   ]
  },
  {
   "cell_type": "code",
   "execution_count": 75,
   "id": "7dbde101",
   "metadata": {},
   "outputs": [
    {
     "data": {
      "text/plain": [
       "Text(0, 0.5, 'number of users')"
      ]
     },
     "execution_count": 75,
     "metadata": {},
     "output_type": "execute_result"
    },
    {
     "data": {
      "image/png": "[encoded data removed]",
      "text/plain": [
       "<Figure size 432x288 with 1 Axes>"
      ]
     },
     "metadata": {
      "needs_background": "light"
     },
     "output_type": "display_data"
    }
   ],
   "source": [
    "plt.hist(user_ratings)\n",
    "plt.xlabel(\"Number of ratings\")\n",
    "plt.ylabel(\"number of users\")"
   ]
  },
  {
   "cell_type": "code",
   "execution_count": 80,
   "id": "ce4d9ea9",
   "metadata": {},
   "outputs": [],
   "source": [
    "# Number of users with < 10 ratings\n",
    "count_less_than_10 = np.count_nonzero(np.array(user_ratings)<10)/len(user_ratings)*100"
   ]
  },
  {
   "cell_type": "code",
   "execution_count": 81,
   "id": "618605d0",
   "metadata": {},
   "outputs": [
    {
     "data": {
      "text/plain": [
       "0.0"
      ]
     },
     "execution_count": 81,
     "metadata": {},
     "output_type": "execute_result"
    }
   ],
   "source": [
    "count_less_than_10"
   ]
  }
 ],
 "metadata": {
  "kernelspec": {
   "display_name": "Python 3",
   "language": "python",
   "name": "python3"
  },
  "language_info": {
   "codemirror_mode": {
    "name": "ipython",
    "version": 3
   },
   "file_extension": ".py",
   "mimetype": "text/x-python",
   "name": "python",
   "nbconvert_exporter": "python",
   "pygments_lexer": "ipython3",
   "version": "3.7.6"
  }
 },
 "nbformat": 4,
 "nbformat_minor": 5
}
